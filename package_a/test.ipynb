{
 "cells": [
  {
   "cell_type": "code",
   "execution_count": 9,
   "metadata": {},
   "outputs": [],
   "source": [
    "\n",
    "import pandas as pd\n",
    "\n",
    "input_file = 'sample.csv'\n",
    "output_file = input_file.replace('.csv', '_stripped.csv')\n",
    "df = pd.read_csv(input_file,sep = '|')\n",
    "df = df.drop(['Year', 'Artist'], axis=1)\n",
    "df.to_csv(output_file, sep='|', index=False)"
   ]
  },
  {
   "cell_type": "code",
   "execution_count": 7,
   "metadata": {},
   "outputs": [
    {
     "name": "stdout",
     "output_type": "stream",
     "text": [
      "Country\n",
      "Switzerland\n",
      "Switzerland\n"
     ]
    }
   ],
   "source": [
    "import csv\n",
    "\n",
    "input_file = 'sample.csv'\n",
    "output_file = input_file.replace('.csv', '_stripped.csv')\n",
    "\n",
    "deleted_cols = ['Year', 'Artist']\n",
    "\n",
    "\n",
    "with open(input_file, newline='') as csvfile:\n",
    "    reader = csv.reader(csvfile, delimiter='|')\n",
    "\n",
    "    with open(output_file, \"w\", newline='') as result:\n",
    "\n",
    "        writer = csv.writer(result, delimiter='|')\n",
    "\n",
    "        for row in reader:\n",
    "            writer.writerow([row[1],row[2]]) # write the row to the new file"
   ]
  },
  {
   "cell_type": "code",
   "execution_count": 4,
   "metadata": {},
   "outputs": [
    {
     "data": {
      "text/plain": [
       "['c:\\\\Users\\\\asus\\\\Desktop\\\\Airflow\\\\Airflow\\\\test\\\\sample_stripped.csv']"
      ]
     },
     "execution_count": 4,
     "metadata": {},
     "output_type": "execute_result"
    }
   ],
   "source": [
    "import dask.dataframe as dd\n",
    "input_file = 'sample.csv'\n",
    "output_file = input_file.replace('.csv', '_stripped.csv')\n",
    "df = dd.read_csv(input_file,sep = '|')\n",
    "df = df.drop(['Year', 'Artist'], axis=1)\n",
    "df.to_csv(output_file, sep='|', index=False, single_file=True)"
   ]
  },
  {
   "cell_type": "code",
   "execution_count": null,
   "metadata": {},
   "outputs": [],
   "source": []
  }
 ],
 "metadata": {
  "kernelspec": {
   "display_name": "Python 3.9.12 ('py39')",
   "language": "python",
   "name": "python3"
  },
  "language_info": {
   "codemirror_mode": {
    "name": "ipython",
    "version": 3
   },
   "file_extension": ".py",
   "mimetype": "text/x-python",
   "name": "python",
   "nbconvert_exporter": "python",
   "pygments_lexer": "ipython3",
   "version": "3.9.12"
  },
  "orig_nbformat": 4,
  "vscode": {
   "interpreter": {
    "hash": "010229791355830751accc3d9730749cb1269d27dc301dba60863d08d0b7c065"
   }
  }
 },
 "nbformat": 4,
 "nbformat_minor": 2
}
